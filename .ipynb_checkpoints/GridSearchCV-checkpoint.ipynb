{
 "cells": [
  {
   "cell_type": "code",
   "execution_count": 1,
   "metadata": {},
   "outputs": [
    {
     "name": "stderr",
     "output_type": "stream",
     "text": [
      "/home/calvin/.local/lib/python3.6/site-packages/sklearn/ensemble/weight_boosting.py:29: DeprecationWarning: numpy.core.umath_tests is an internal NumPy module and should not be imported. It will be removed in a future NumPy release.\n",
      "  from numpy.core.umath_tests import inner1d\n"
     ]
    }
   ],
   "source": [
    "from Benchmark import *"
   ]
  },
  {
   "cell_type": "code",
   "execution_count": 2,
   "metadata": {},
   "outputs": [],
   "source": [
    "dir = 'tp_1'\n",
    "arr = new_data2arr(dir, False)\n",
    "arr = elim_outliers(arr, dir, False)\n",
    "\n",
    "C = slice_arr(arr, 30)\n",
    "lb1 = label_arr(C, 1)\n",
    "\n",
    "dir1 = 'non_1'\n",
    "arr1 = new_data2arr(dir1, False)\n",
    "arr1 = elim_outliers(arr1, dir1, False)\n",
    "\n",
    "D = slice_arr(arr1, 30)\n",
    "lb2 = label_arr(D, 0)\n",
    "\n",
    "rst = np.apply_along_axis(sdf_features,1, C, 20)\n",
    "rst1 = np.apply_along_axis(sdf_features, 1, D, 20)\n",
    "\n",
    "C_D = np.concatenate((C, D), axis=0)\n",
    "lb = np.concatenate((lb1, lb2), axis=0)"
   ]
  },
  {
   "cell_type": "code",
   "execution_count": 5,
   "metadata": {},
   "outputs": [],
   "source": [
    "from sklearn.grid_search import GridSearchCV\n",
    "from sklearn import cross_validation, metrics"
   ]
  },
  {
   "cell_type": "code",
   "execution_count": 10,
   "metadata": {},
   "outputs": [],
   "source": [
    "param_test1= {'n_estimators':list(range(10,71,10))}"
   ]
  },
  {
   "cell_type": "code",
   "execution_count": 11,
   "metadata": {},
   "outputs": [],
   "source": [
    "gsearch1= GridSearchCV(estimator = RandomForestClassifier(min_samples_split=100,\n",
    "                                 min_samples_leaf=20,max_depth=8,max_features='sqrt' ,random_state=10),\n",
    "                       param_grid =param_test1, scoring='roc_auc',cv=5)"
   ]
  },
  {
   "cell_type": "code",
   "execution_count": 12,
   "metadata": {},
   "outputs": [
    {
     "data": {
      "text/plain": [
       "GridSearchCV(cv=5, error_score='raise',\n",
       "       estimator=RandomForestClassifier(bootstrap=True, class_weight=None, criterion='gini',\n",
       "            max_depth=8, max_features='sqrt', max_leaf_nodes=None,\n",
       "            min_impurity_decrease=0.0, min_impurity_split=None,\n",
       "            min_samples_leaf=20, min_samples_split=100,\n",
       "            min_weight_fraction_leaf=0.0, n_estimators=10, n_jobs=1,\n",
       "            oob_score=False, random_state=10, verbose=0, warm_start=False),\n",
       "       fit_params={}, iid=True, n_jobs=1,\n",
       "       param_grid={'n_estimators': [10, 20, 30, 40, 50, 60, 70]},\n",
       "       pre_dispatch='2*n_jobs', refit=True, scoring='roc_auc', verbose=0)"
      ]
     },
     "execution_count": 12,
     "metadata": {},
     "output_type": "execute_result"
    }
   ],
   "source": [
    "gsearch1.fit(C_D,lb)"
   ]
  },
  {
   "cell_type": "code",
   "execution_count": 13,
   "metadata": {},
   "outputs": [
    {
     "data": {
      "text/plain": [
       "([mean: 0.87716, std: 0.10932, params: {'n_estimators': 10},\n",
       "  mean: 0.88170, std: 0.10478, params: {'n_estimators': 20},\n",
       "  mean: 0.88153, std: 0.10321, params: {'n_estimators': 30},\n",
       "  mean: 0.88342, std: 0.10022, params: {'n_estimators': 40},\n",
       "  mean: 0.88334, std: 0.10043, params: {'n_estimators': 50},\n",
       "  mean: 0.88336, std: 0.10103, params: {'n_estimators': 60},\n",
       "  mean: 0.88419, std: 0.10024, params: {'n_estimators': 70}],\n",
       " {'n_estimators': 70},\n",
       " 0.8841922639961529)"
      ]
     },
     "execution_count": 13,
     "metadata": {},
     "output_type": "execute_result"
    }
   ],
   "source": [
    "gsearch1.grid_scores_,gsearch1.best_params_, gsearch1.best_score_"
   ]
  },
  {
   "cell_type": "code",
   "execution_count": null,
   "metadata": {},
   "outputs": [],
   "source": [
    "\n",
    "param_test2= {'max_depth':list(range(3,14,2)), 'min_samples_split':list(range(50,201,20))}\n",
    "gsearch2= GridSearchCV(estimator = RandomForestClassifier(n_estimators= 70,\n",
    "                                 min_samples_leaf=20,max_features='sqrt' ,oob_score=True,random_state=10),\n",
    "   param_grid = param_test2,scoring='roc_auc',iid=False, cv=5)\n",
    "gsearch2.fit(X,y)\n",
    "gsearch2.grid_scores_,gsearch2.best_params_, gsearch2.best_score_\n"
   ]
  }
 ],
 "metadata": {
  "kernelspec": {
   "display_name": "Python 3",
   "language": "python",
   "name": "python3"
  },
  "language_info": {
   "codemirror_mode": {
    "name": "ipython",
    "version": 3
   },
   "file_extension": ".py",
   "mimetype": "text/x-python",
   "name": "python",
   "nbconvert_exporter": "python",
   "pygments_lexer": "ipython3",
   "version": "3.6.5"
  }
 },
 "nbformat": 4,
 "nbformat_minor": 2
}
