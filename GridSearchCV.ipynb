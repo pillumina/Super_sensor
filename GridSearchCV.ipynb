{
 "cells": [
  {
   "cell_type": "code",
   "execution_count": 1,
   "metadata": {},
   "outputs": [
    {
     "name": "stderr",
     "output_type": "stream",
     "text": [
      "/home/calvin/.local/lib/python3.6/site-packages/sklearn/ensemble/weight_boosting.py:29: DeprecationWarning: numpy.core.umath_tests is an internal NumPy module and should not be imported. It will be removed in a future NumPy release.\n",
      "  from numpy.core.umath_tests import inner1d\n"
     ]
    }
   ],
   "source": [
    "from Benchmark import *"
   ]
  },
  {
   "cell_type": "code",
   "execution_count": 2,
   "metadata": {},
   "outputs": [],
   "source": [
    "dir = 'tp_1'\n",
    "arr = new_data2arr(dir, False)\n",
    "arr = elim_outliers(arr, dir, False)\n",
    "\n",
    "C = slice_arr(arr, 30)\n",
    "lb1 = label_arr(C, 1)\n",
    "\n",
    "dir1 = 'non_1'\n",
    "arr1 = new_data2arr(dir1, False)\n",
    "arr1 = elim_outliers(arr1, dir1, False)\n",
    "\n",
    "D = slice_arr(arr1, 30)\n",
    "lb2 = label_arr(D, 0)\n",
    "\n",
    "rst = np.apply_along_axis(sdf_features,1, C, 20)\n",
    "rst1 = np.apply_along_axis(sdf_features, 1, D, 20)\n",
    "\n",
    "C_D = np.concatenate((C, D), axis=0)\n",
    "lb = np.concatenate((lb1, lb2), axis=0)"
   ]
  },
  {
   "cell_type": "code",
   "execution_count": 5,
   "metadata": {},
   "outputs": [],
   "source": [
    "from sklearn.grid_search import GridSearchCV\n",
    "from sklearn import cross_validation, metrics"
   ]
  },
  {
   "cell_type": "code",
   "execution_count": 10,
   "metadata": {},
   "outputs": [],
   "source": [
    "param_test1= {'n_estimators':list(range(10,71,10))}"
   ]
  },
  {
   "cell_type": "code",
   "execution_count": 11,
   "metadata": {},
   "outputs": [],
   "source": [
    "gsearch1= GridSearchCV(estimator = RandomForestClassifier(min_samples_split=100,\n",
    "                                 min_samples_leaf=20,max_depth=8,max_features='sqrt' ,random_state=10),\n",
    "                       param_grid =param_test1, scoring='roc_auc',cv=5)"
   ]
  },
  {
   "cell_type": "code",
   "execution_count": 12,
   "metadata": {},
   "outputs": [
    {
     "data": {
      "text/plain": [
       "GridSearchCV(cv=5, error_score='raise',\n",
       "       estimator=RandomForestClassifier(bootstrap=True, class_weight=None, criterion='gini',\n",
       "            max_depth=8, max_features='sqrt', max_leaf_nodes=None,\n",
       "            min_impurity_decrease=0.0, min_impurity_split=None,\n",
       "            min_samples_leaf=20, min_samples_split=100,\n",
       "            min_weight_fraction_leaf=0.0, n_estimators=10, n_jobs=1,\n",
       "            oob_score=False, random_state=10, verbose=0, warm_start=False),\n",
       "       fit_params={}, iid=True, n_jobs=1,\n",
       "       param_grid={'n_estimators': [10, 20, 30, 40, 50, 60, 70]},\n",
       "       pre_dispatch='2*n_jobs', refit=True, scoring='roc_auc', verbose=0)"
      ]
     },
     "execution_count": 12,
     "metadata": {},
     "output_type": "execute_result"
    }
   ],
   "source": [
    "gsearch1.fit(C_D,lb)"
   ]
  },
  {
   "cell_type": "code",
   "execution_count": 13,
   "metadata": {},
   "outputs": [
    {
     "data": {
      "text/plain": [
       "([mean: 0.87716, std: 0.10932, params: {'n_estimators': 10},\n",
       "  mean: 0.88170, std: 0.10478, params: {'n_estimators': 20},\n",
       "  mean: 0.88153, std: 0.10321, params: {'n_estimators': 30},\n",
       "  mean: 0.88342, std: 0.10022, params: {'n_estimators': 40},\n",
       "  mean: 0.88334, std: 0.10043, params: {'n_estimators': 50},\n",
       "  mean: 0.88336, std: 0.10103, params: {'n_estimators': 60},\n",
       "  mean: 0.88419, std: 0.10024, params: {'n_estimators': 70}],\n",
       " {'n_estimators': 70},\n",
       " 0.8841922639961529)"
      ]
     },
     "execution_count": 13,
     "metadata": {},
     "output_type": "execute_result"
    }
   ],
   "source": [
    "gsearch1.grid_scores_,gsearch1.best_params_, gsearch1.best_score_"
   ]
  },
  {
   "cell_type": "code",
   "execution_count": 15,
   "metadata": {},
   "outputs": [
    {
     "data": {
      "text/plain": [
       "([mean: 0.87318, std: 0.11088, params: {'max_depth': 3, 'min_samples_split': 50},\n",
       "  mean: 0.87407, std: 0.11021, params: {'max_depth': 3, 'min_samples_split': 70},\n",
       "  mean: 0.87360, std: 0.10993, params: {'max_depth': 3, 'min_samples_split': 90},\n",
       "  mean: 0.87325, std: 0.11027, params: {'max_depth': 3, 'min_samples_split': 110},\n",
       "  mean: 0.86957, std: 0.11520, params: {'max_depth': 3, 'min_samples_split': 130},\n",
       "  mean: 0.86581, std: 0.12051, params: {'max_depth': 3, 'min_samples_split': 150},\n",
       "  mean: 0.86555, std: 0.12093, params: {'max_depth': 3, 'min_samples_split': 170},\n",
       "  mean: 0.86558, std: 0.12157, params: {'max_depth': 3, 'min_samples_split': 190},\n",
       "  mean: 0.88486, std: 0.10067, params: {'max_depth': 5, 'min_samples_split': 50},\n",
       "  mean: 0.88481, std: 0.10076, params: {'max_depth': 5, 'min_samples_split': 70},\n",
       "  mean: 0.88307, std: 0.10083, params: {'max_depth': 5, 'min_samples_split': 90},\n",
       "  mean: 0.88275, std: 0.10132, params: {'max_depth': 5, 'min_samples_split': 110},\n",
       "  mean: 0.87867, std: 0.10717, params: {'max_depth': 5, 'min_samples_split': 130},\n",
       "  mean: 0.87533, std: 0.11238, params: {'max_depth': 5, 'min_samples_split': 150},\n",
       "  mean: 0.87522, std: 0.11282, params: {'max_depth': 5, 'min_samples_split': 170},\n",
       "  mean: 0.87569, std: 0.11165, params: {'max_depth': 5, 'min_samples_split': 190},\n",
       "  mean: 0.88511, std: 0.09985, params: {'max_depth': 7, 'min_samples_split': 50},\n",
       "  mean: 0.88594, std: 0.09942, params: {'max_depth': 7, 'min_samples_split': 70},\n",
       "  mean: 0.88398, std: 0.10023, params: {'max_depth': 7, 'min_samples_split': 90},\n",
       "  mean: 0.88367, std: 0.10070, params: {'max_depth': 7, 'min_samples_split': 110},\n",
       "  mean: 0.88023, std: 0.10579, params: {'max_depth': 7, 'min_samples_split': 130},\n",
       "  mean: 0.87583, std: 0.11226, params: {'max_depth': 7, 'min_samples_split': 150},\n",
       "  mean: 0.87540, std: 0.11238, params: {'max_depth': 7, 'min_samples_split': 170},\n",
       "  mean: 0.87599, std: 0.11170, params: {'max_depth': 7, 'min_samples_split': 190},\n",
       "  mean: 0.88511, std: 0.10014, params: {'max_depth': 9, 'min_samples_split': 50},\n",
       "  mean: 0.88606, std: 0.09971, params: {'max_depth': 9, 'min_samples_split': 70},\n",
       "  mean: 0.88410, std: 0.09997, params: {'max_depth': 9, 'min_samples_split': 90},\n",
       "  mean: 0.88396, std: 0.10046, params: {'max_depth': 9, 'min_samples_split': 110},\n",
       "  mean: 0.88034, std: 0.10607, params: {'max_depth': 9, 'min_samples_split': 130},\n",
       "  mean: 0.87608, std: 0.11221, params: {'max_depth': 9, 'min_samples_split': 150},\n",
       "  mean: 0.87533, std: 0.11245, params: {'max_depth': 9, 'min_samples_split': 170},\n",
       "  mean: 0.87596, std: 0.11169, params: {'max_depth': 9, 'min_samples_split': 190},\n",
       "  mean: 0.88527, std: 0.09989, params: {'max_depth': 11, 'min_samples_split': 50},\n",
       "  mean: 0.88612, std: 0.09942, params: {'max_depth': 11, 'min_samples_split': 70},\n",
       "  mean: 0.88413, std: 0.09994, params: {'max_depth': 11, 'min_samples_split': 90},\n",
       "  mean: 0.88402, std: 0.10043, params: {'max_depth': 11, 'min_samples_split': 110},\n",
       "  mean: 0.88030, std: 0.10603, params: {'max_depth': 11, 'min_samples_split': 130},\n",
       "  mean: 0.87608, std: 0.11221, params: {'max_depth': 11, 'min_samples_split': 150},\n",
       "  mean: 0.87533, std: 0.11245, params: {'max_depth': 11, 'min_samples_split': 170},\n",
       "  mean: 0.87596, std: 0.11169, params: {'max_depth': 11, 'min_samples_split': 190},\n",
       "  mean: 0.88532, std: 0.09985, params: {'max_depth': 13, 'min_samples_split': 50},\n",
       "  mean: 0.88612, std: 0.09942, params: {'max_depth': 13, 'min_samples_split': 70},\n",
       "  mean: 0.88413, std: 0.09994, params: {'max_depth': 13, 'min_samples_split': 90},\n",
       "  mean: 0.88402, std: 0.10043, params: {'max_depth': 13, 'min_samples_split': 110},\n",
       "  mean: 0.88030, std: 0.10603, params: {'max_depth': 13, 'min_samples_split': 130},\n",
       "  mean: 0.87608, std: 0.11221, params: {'max_depth': 13, 'min_samples_split': 150},\n",
       "  mean: 0.87533, std: 0.11245, params: {'max_depth': 13, 'min_samples_split': 170},\n",
       "  mean: 0.87596, std: 0.11169, params: {'max_depth': 13, 'min_samples_split': 190}],\n",
       " {'max_depth': 11, 'min_samples_split': 70},\n",
       " 0.8861208895076063)"
      ]
     },
     "execution_count": 15,
     "metadata": {},
     "output_type": "execute_result"
    }
   ],
   "source": [
    "param_test2= {'max_depth':list(range(3,14,2)), 'min_samples_split':list(range(50,201,20))}\n",
    "gsearch2= GridSearchCV(estimator = RandomForestClassifier(n_estimators= 70,\n",
    "                                 min_samples_leaf=20,max_features='sqrt' ,oob_score=True,random_state=10),\n",
    "   param_grid = param_test2,scoring='roc_auc',iid=False, cv=5)\n",
    "gsearch2.fit(C_D,lb)\n",
    "gsearch2.grid_scores_,gsearch2.best_params_, gsearch2.best_score_"
   ]
  },
  {
   "cell_type": "code",
   "execution_count": 17,
   "metadata": {},
   "outputs": [
    {
     "name": "stdout",
     "output_type": "stream",
     "text": [
      "0.8780687397708674\n"
     ]
    }
   ],
   "source": [
    "rf1= RandomForestClassifier(n_estimators= 70, max_depth=11, min_samples_split=70,\n",
    "                                 min_samples_leaf=20,max_features='sqrt' ,oob_score=True,random_state=10)\n",
    "rf1.fit(C_D,lb)\n",
    "print(rf1.oob_score_)"
   ]
  },
  {
   "cell_type": "code",
   "execution_count": null,
   "metadata": {},
   "outputs": [],
   "source": []
  }
 ],
 "metadata": {
  "kernelspec": {
   "display_name": "Python 3",
   "language": "python",
   "name": "python3"
  },
  "language_info": {
   "codemirror_mode": {
    "name": "ipython",
    "version": 3
   },
   "file_extension": ".py",
   "mimetype": "text/x-python",
   "name": "python",
   "nbconvert_exporter": "python",
   "pygments_lexer": "ipython3",
   "version": "3.6.5"
  }
 },
 "nbformat": 4,
 "nbformat_minor": 2
}
